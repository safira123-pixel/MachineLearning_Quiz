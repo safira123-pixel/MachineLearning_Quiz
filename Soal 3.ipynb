{
 "cells": [
  {
   "cell_type": "code",
   "execution_count": 2,
   "metadata": {},
   "outputs": [
    {
     "data": {
      "text/html": [
       "<div>\n",
       "<style scoped>\n",
       "    .dataframe tbody tr th:only-of-type {\n",
       "        vertical-align: middle;\n",
       "    }\n",
       "\n",
       "    .dataframe tbody tr th {\n",
       "        vertical-align: top;\n",
       "    }\n",
       "\n",
       "    .dataframe thead th {\n",
       "        text-align: right;\n",
       "    }\n",
       "</style>\n",
       "<table border=\"1\" class=\"dataframe\">\n",
       "  <thead>\n",
       "    <tr style=\"text-align: right;\">\n",
       "      <th></th>\n",
       "      <th>age</th>\n",
       "      <th>sex</th>\n",
       "      <th>bmi</th>\n",
       "      <th>children</th>\n",
       "      <th>smoker</th>\n",
       "      <th>region</th>\n",
       "      <th>charges</th>\n",
       "    </tr>\n",
       "  </thead>\n",
       "  <tbody>\n",
       "    <tr>\n",
       "      <th>0</th>\n",
       "      <td>19</td>\n",
       "      <td>female</td>\n",
       "      <td>27.900</td>\n",
       "      <td>0</td>\n",
       "      <td>yes</td>\n",
       "      <td>southwest</td>\n",
       "      <td>16884.92400</td>\n",
       "    </tr>\n",
       "    <tr>\n",
       "      <th>1</th>\n",
       "      <td>18</td>\n",
       "      <td>male</td>\n",
       "      <td>33.770</td>\n",
       "      <td>1</td>\n",
       "      <td>no</td>\n",
       "      <td>southeast</td>\n",
       "      <td>1725.55230</td>\n",
       "    </tr>\n",
       "    <tr>\n",
       "      <th>2</th>\n",
       "      <td>28</td>\n",
       "      <td>male</td>\n",
       "      <td>33.000</td>\n",
       "      <td>3</td>\n",
       "      <td>no</td>\n",
       "      <td>southeast</td>\n",
       "      <td>4449.46200</td>\n",
       "    </tr>\n",
       "    <tr>\n",
       "      <th>3</th>\n",
       "      <td>33</td>\n",
       "      <td>male</td>\n",
       "      <td>22.705</td>\n",
       "      <td>0</td>\n",
       "      <td>no</td>\n",
       "      <td>northwest</td>\n",
       "      <td>21984.47061</td>\n",
       "    </tr>\n",
       "    <tr>\n",
       "      <th>4</th>\n",
       "      <td>32</td>\n",
       "      <td>male</td>\n",
       "      <td>28.880</td>\n",
       "      <td>0</td>\n",
       "      <td>no</td>\n",
       "      <td>northwest</td>\n",
       "      <td>3866.85520</td>\n",
       "    </tr>\n",
       "  </tbody>\n",
       "</table>\n",
       "</div>"
      ],
      "text/plain": [
       "   age     sex     bmi  children smoker     region      charges\n",
       "0   19  female  27.900         0    yes  southwest  16884.92400\n",
       "1   18    male  33.770         1     no  southeast   1725.55230\n",
       "2   28    male  33.000         3     no  southeast   4449.46200\n",
       "3   33    male  22.705         0     no  northwest  21984.47061\n",
       "4   32    male  28.880         0     no  northwest   3866.85520"
      ]
     },
     "execution_count": 2,
     "metadata": {},
     "output_type": "execute_result"
    }
   ],
   "source": [
    "import numpy as np\n",
    "import pandas as pd\n",
    "\n",
    "# Load data Excel ke Data Frame\n",
    "df = pd.read_csv('insurance 2.csv')\n",
    "\n",
    "# Cek data\n",
    "df.head()"
   ]
  },
  {
   "cell_type": "markdown",
   "metadata": {},
   "source": [
    "1. Mencari peluang besar tagihan berdasarkan BMI"
   ]
  },
  {
   "cell_type": "code",
   "execution_count": 25,
   "metadata": {},
   "outputs": [
    {
     "name": "stdout",
     "output_type": "stream",
     "text": [
      "Tagihan terbesar =  63770.42801\n",
      "====================================\n",
      "BMI terbesar =  53.13\n",
      "=====================================\n",
      "Total Keseluruhan =  63823.55801\n",
      "=====================================\n",
      "Jadi peluang besar tagihan berdasarkan BMI =  0.999167548760104\n"
     ]
    }
   ],
   "source": [
    "tagihan = df['charges'].max()\n",
    "print('Tagihan terbesar = ', tagihan)\n",
    "print('====================================')\n",
    "bmi = df['bmi'].max()\n",
    "print('BMI terbesar = ', bmi)\n",
    "print('=====================================')\n",
    "keseluruhan = tagihan+bmi\n",
    "print('Total Keseluruhan = ', keseluruhan)\n",
    "print('=====================================')\n",
    "tag_bmi = tagihan/keseluruhan\n",
    "b = round(tag_bmi,0)\n",
    "print('Jadi peluang besar tagihan berdasarkan BMI = ', tag_bmi)\n",
    "# print('Jadi jika dibulatkan peluang besar tagihan berdasarkan BMI = ', b)"
   ]
  },
  {
   "cell_type": "markdown",
   "metadata": {},
   "source": [
    "2. Mencari kemungkin terjadi, seorang perokok dengan BMI diatas 25 akan mendapatkan tagihan kesehatan di atas 16.700."
   ]
  },
  {
   "cell_type": "code",
   "execution_count": 3,
   "metadata": {},
   "outputs": [
    {
     "name": "stdout",
     "output_type": "stream",
     "text": [
      "Jadi terdapat  1093  yang akan mendapatkan charges atau tagihan kesehatan 16.700\n"
     ]
    }
   ],
   "source": [
    "total = 0\n",
    "x = len(df)\n",
    "for i in range(0, x):\n",
    "  if (df.iloc[i][2] >= 25):\n",
    "    total += 1\n",
    "print('Jadi terdapat ',total,' yang mendapat tagihan kesehatan 16.700')"
   ]
  },
  {
   "cell_type": "markdown",
   "metadata": {},
   "source": [
    "3. Berapa peluang seseorang acak tagihan kesehatannya diatas 16.7k diketahui dia adalah perokok"
   ]
  },
  {
   "cell_type": "code",
   "execution_count": 39,
   "metadata": {},
   "outputs": [],
   "source": [
    "from sklearn.preprocessing import LabelEncoder\n",
    "\n",
    "encode = LabelEncoder()\n",
    "\n",
    "df['smoker'] = encode.fit_transform(df['smoker'])\n",
    "\n"
   ]
  },
  {
   "cell_type": "code",
   "execution_count": 42,
   "metadata": {},
   "outputs": [
    {
     "name": "stdout",
     "output_type": "stream",
     "text": [
      "Total seorang perokok dengan tagihan diatas 16.700 :  274\n",
      "Total seorang non perokok dengan tagihan diatas 16.700 :  1064\n",
      "Jadi peluang acak yang didapatkan adalah  0.20478325859491778\n"
     ]
    }
   ],
   "source": [
    "total = 0\n",
    "x = len(df)\n",
    "for i in range(0, x):\n",
    "    if(df.iloc[i][4] == 1):\n",
    "          if (df.iloc[i][6] >= 16.700):\n",
    "                total += 1\n",
    "                \n",
    "total1 = 0\n",
    "x = len(df)\n",
    "for i in range(0, x):\n",
    "    if(df.iloc[i][4] == 0):\n",
    "          if (df.iloc[i][6] >= 16.700):\n",
    "                total1 += 1\n",
    "\n",
    "                \n",
    "keseluruhan = total + total1\n",
    "Perokok = total / keseluruhan\n",
    "print('Total seorang perokok dengan tagihan diatas 16.700 : ', total)\n",
    "print('Total seorang non perokok dengan tagihan diatas 16.700 : ',total1)\n",
    "print('Jadi peluang acak yang didapatkan adalah ', Perokok)\n",
    "\n"
   ]
  },
  {
   "cell_type": "markdown",
   "metadata": {},
   "source": [
    "4. Mana yang lebih mungkin terjadi\n",
    "\n",
    "    a. Seseorang dengan BMI diatas 25 mendapatkan tagihan kesehatan diatas 16.7k, atau\n",
    "\n",
    "    b. Seseorang dengan BMI dibawah 25 mendapatkan tagihan kesehatan diatas 16.7k"
   ]
  },
  {
   "cell_type": "code",
   "execution_count": 14,
   "metadata": {},
   "outputs": [
    {
     "name": "stdout",
     "output_type": "stream",
     "text": [
      "Jadi terdapat  1093  yang mendapat tagihan 16,7k diatas BMI 25\n",
      "Jadi terdapat  245  yang mendapat tagihan 16,7k dibawah BMI 25\n",
      "-----------------------------------------------------------------------------------\n",
      "jadi probabilitas untuk tagihan 16,7k diatas BMI 25 adalah:  0.8168908819133034\n",
      "jadi probabilitas untuk tagihan 16,7 k dibawah BMI 25 adalah:  0.18310911808669655\n",
      "-----------------------------------------------------------------------------------\n",
      "jadi yang paling memungkinkan adalah Seseorang dengan BMI diatas 25 mendapatkan tagihan kesehatan diatas 16.7k \n"
     ]
    }
   ],
   "source": [
    "total = 0\n",
    "total1 = 0\n",
    "x = len(df)\n",
    "for i in range(0, x):\n",
    "  if (df.iloc[i][2] >= 25):\n",
    "    total += 1\n",
    "  else:\n",
    "    total1 += 1\n",
    "print('Jadi terdapat ',total,' yang mendapat tagihan 16,7k diatas BMI 25')\n",
    "print('Jadi terdapat ',total1,' yang mendapat tagihan 16,7k dibawah BMI 25')\n",
    "\n",
    "keseluruhan = total1 + total\n",
    "probabilitas_diatas = total / keseluruhan\n",
    "probabilitas_dibawah = total1 / keseluruhan\n",
    "\n",
    "print('-----------------------------------------------------------------------------------')\n",
    "\n",
    "print('jadi probabilitas untuk tagihan 16,7k diatas BMI 25 adalah: ', probabilitas_diatas)\n",
    "print('jadi probabilitas untuk tagihan 16,7 k dibawah BMI 25 adalah: ', probabilitas_dibawah)\n",
    "\n",
    "print('-----------------------------------------------------------------------------------')\n",
    "\n",
    "print('jadi yang paling memungkinkan adalah Seseorang dengan BMI diatas 25 mendapatkan tagihan kesehatan diatas 16.7k ' )"
   ]
  },
  {
   "cell_type": "markdown",
   "metadata": {},
   "source": [
    "5. Mana yang lebih mungkin terjadi\n",
    "\n",
    "    a. Seseorang perokok dengan BMI diatas 25 mendapatkan tagihan kesehatan diatas 16.7k, atau\n",
    "\n",
    "    b. Seseorang non perokok dengan BMI diatas 25 mendapatkan tagihan kesehatan diatas 16.7k"
   ]
  },
  {
   "cell_type": "code",
   "execution_count": 40,
   "metadata": {},
   "outputs": [],
   "source": [
    "\n",
    "from sklearn.preprocessing import LabelEncoder\n",
    "\n",
    "encode = LabelEncoder()\n",
    "\n",
    "df['smoker'] = encode.fit_transform(df['smoker'])"
   ]
  },
  {
   "cell_type": "code",
   "execution_count": 41,
   "metadata": {},
   "outputs": [
    {
     "name": "stdout",
     "output_type": "stream",
     "text": [
      "Jadi terdapat  219  yang merupakan perokok dan mendapat tagihan 16,7k diatas BMI 25\n",
      "Jadi terdapat  874  yang merupakan non perokok mendapat tagihan 16,7k diatas BMI 25\n",
      "-----------------------------------------------------------------------------------\n",
      "jadi probabilitas untuk perokok dengan tagihan 16,7k diatas BMI 25 adalah:  0.20036596523330283\n",
      "jadi probabilitas untuk non perokok dengan tagihan 16,7 k diatas BMI 25 adalah:  0.7996340347666971\n",
      "-----------------------------------------------------------------------------------\n",
      "jadi yang paling memungkinkan adalah Seseorang yang non perokok dengan tagihan 16,7 k diatas BMI 25\n"
     ]
    }
   ],
   "source": [
    "total = 0\n",
    "x = len(df)\n",
    "for i in range(0, x):\n",
    "    if(df.iloc[i][4] == 1):\n",
    "        if (df.iloc[i][2] >= 25):\n",
    "              total += 1\n",
    "              \n",
    "total1 = 0\n",
    "x = len(df)\n",
    "for i in range(0, x):\n",
    "    if(df.iloc[i][4] == 0):\n",
    "        if (df.iloc[i][2] >= 25):\n",
    "              total1 += 1\n",
    "\n",
    "print('Jadi terdapat ',total,' yang merupakan perokok dan mendapat tagihan 16,7k diatas BMI 25')\n",
    "print('Jadi terdapat ',total1,' yang merupakan non perokok mendapat tagihan 16,7k diatas BMI 25')\n",
    "\n",
    "keseluruhan = total1 + total\n",
    "probabilitas_perokok = total / keseluruhan\n",
    "probabilitas_nonperokok = total1 / keseluruhan\n",
    "\n",
    "print('-----------------------------------------------------------------------------------')\n",
    "\n",
    "print('jadi probabilitas untuk perokok dengan tagihan 16,7k diatas BMI 25 adalah: ', probabilitas_perokok)\n",
    "print('jadi probabilitas untuk non perokok dengan tagihan 16,7 k diatas BMI 25 adalah: ', probabilitas_nonperokok)\n",
    "\n",
    "print('-----------------------------------------------------------------------------------')\n",
    "\n",
    "print('jadi yang paling memungkinkan adalah Seseorang yang non perokok dengan tagihan 16,7 k diatas BMI 25' )\n",
    "\n"
   ]
  }
 ],
 "metadata": {
  "kernelspec": {
   "display_name": "Python 3.8.8 ('base')",
   "language": "python",
   "name": "python3"
  },
  "language_info": {
   "codemirror_mode": {
    "name": "ipython",
    "version": 3
   },
   "file_extension": ".py",
   "mimetype": "text/x-python",
   "name": "python",
   "nbconvert_exporter": "python",
   "pygments_lexer": "ipython3",
   "version": "3.8.8"
  },
  "orig_nbformat": 4,
  "vscode": {
   "interpreter": {
    "hash": "491feae31c27a1c8c2eb2e8434d5e8fef7076dad40471704f5593a8492996387"
   }
  }
 },
 "nbformat": 4,
 "nbformat_minor": 2
}
