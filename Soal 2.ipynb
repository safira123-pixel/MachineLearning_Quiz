{
 "cells": [
  {
   "cell_type": "code",
   "execution_count": 5,
   "metadata": {},
   "outputs": [
    {
     "data": {
      "text/html": [
       "<div>\n",
       "<style scoped>\n",
       "    .dataframe tbody tr th:only-of-type {\n",
       "        vertical-align: middle;\n",
       "    }\n",
       "\n",
       "    .dataframe tbody tr th {\n",
       "        vertical-align: top;\n",
       "    }\n",
       "\n",
       "    .dataframe thead th {\n",
       "        text-align: right;\n",
       "    }\n",
       "</style>\n",
       "<table border=\"1\" class=\"dataframe\">\n",
       "  <thead>\n",
       "    <tr style=\"text-align: right;\">\n",
       "      <th></th>\n",
       "      <th>age</th>\n",
       "      <th>sex</th>\n",
       "      <th>bmi</th>\n",
       "      <th>children</th>\n",
       "      <th>smoker</th>\n",
       "      <th>region</th>\n",
       "      <th>charges</th>\n",
       "    </tr>\n",
       "  </thead>\n",
       "  <tbody>\n",
       "    <tr>\n",
       "      <th>0</th>\n",
       "      <td>19</td>\n",
       "      <td>female</td>\n",
       "      <td>27.900</td>\n",
       "      <td>0</td>\n",
       "      <td>yes</td>\n",
       "      <td>southwest</td>\n",
       "      <td>16884.92400</td>\n",
       "    </tr>\n",
       "    <tr>\n",
       "      <th>1</th>\n",
       "      <td>18</td>\n",
       "      <td>male</td>\n",
       "      <td>33.770</td>\n",
       "      <td>1</td>\n",
       "      <td>no</td>\n",
       "      <td>southeast</td>\n",
       "      <td>1725.55230</td>\n",
       "    </tr>\n",
       "    <tr>\n",
       "      <th>2</th>\n",
       "      <td>28</td>\n",
       "      <td>male</td>\n",
       "      <td>33.000</td>\n",
       "      <td>3</td>\n",
       "      <td>no</td>\n",
       "      <td>southeast</td>\n",
       "      <td>4449.46200</td>\n",
       "    </tr>\n",
       "    <tr>\n",
       "      <th>3</th>\n",
       "      <td>33</td>\n",
       "      <td>male</td>\n",
       "      <td>22.705</td>\n",
       "      <td>0</td>\n",
       "      <td>no</td>\n",
       "      <td>northwest</td>\n",
       "      <td>21984.47061</td>\n",
       "    </tr>\n",
       "    <tr>\n",
       "      <th>4</th>\n",
       "      <td>32</td>\n",
       "      <td>male</td>\n",
       "      <td>28.880</td>\n",
       "      <td>0</td>\n",
       "      <td>no</td>\n",
       "      <td>northwest</td>\n",
       "      <td>3866.85520</td>\n",
       "    </tr>\n",
       "  </tbody>\n",
       "</table>\n",
       "</div>"
      ],
      "text/plain": [
       "   age     sex     bmi  children smoker     region      charges\n",
       "0   19  female  27.900         0    yes  southwest  16884.92400\n",
       "1   18    male  33.770         1     no  southeast   1725.55230\n",
       "2   28    male  33.000         3     no  southeast   4449.46200\n",
       "3   33    male  22.705         0     no  northwest  21984.47061\n",
       "4   32    male  28.880         0     no  northwest   3866.85520"
      ]
     },
     "execution_count": 5,
     "metadata": {},
     "output_type": "execute_result"
    }
   ],
   "source": [
    "import numpy as np\n",
    "import pandas as pd\n",
    "\n",
    "# Load data Excel ke Data Frame\n",
    "df = pd.read_csv('insurance 2.csv')\n",
    "\n",
    "# Cek data\n",
    "df.head()"
   ]
  },
  {
   "cell_type": "markdown",
   "metadata": {},
   "source": [
    "1. Gender mana yang memiliki tagihan paling tinggi?"
   ]
  },
  {
   "cell_type": "code",
   "execution_count": 14,
   "metadata": {},
   "outputs": [
    {
     "name": "stdout",
     "output_type": "stream",
     "text": [
      "female max:  63770.42801\n",
      "---------------------------------------------------\n",
      "male max :  62592.87309\n",
      "---------------------------------------------------\n",
      "Jadi yang memiliki tagihan paling tinggi adalah Perempuan dengan tagihan sebesar  63770.42801\n"
     ]
    }
   ],
   "source": [
    "highest = df[df['sex']== 'female']['charges'].max()\n",
    "b = round(highest,0)\n",
    "print('female max: ' ,highest)\n",
    "\n",
    "print('---------------------------------------------------')\n",
    "\n",
    "highest1 = df[df['sex']== 'male']['charges'].max()\n",
    "b = round(highest1,0)\n",
    "print('male max : ' ,highest1)\n",
    "\n",
    "print('---------------------------------------------------')\n",
    "\n",
    "print(\"Jadi yang memiliki tagihan paling tinggi adalah Perempuan dengan tagihan sebesar \",highest)"
   ]
  },
  {
   "cell_type": "markdown",
   "metadata": {},
   "source": [
    "4. Mana yang lebih tinggi proporsi perokok atau non perokok?"
   ]
  },
  {
   "cell_type": "code",
   "execution_count": 12,
   "metadata": {},
   "outputs": [
    {
     "name": "stdout",
     "output_type": "stream",
     "text": [
      "      age     sex     bmi  children smoker     region      charges\n",
      "0      19  female  27.900         0    yes  southwest  16884.92400\n",
      "11     62  female  26.290         0    yes  southeast  27808.72510\n",
      "14     27    male  42.130         0    yes  southeast  39611.75770\n",
      "19     30    male  35.300         0    yes  southwest  36837.46700\n",
      "23     34  female  31.920         1    yes  northeast  37701.87680\n",
      "...   ...     ...     ...       ...    ...        ...          ...\n",
      "1313   19  female  34.700         2    yes  southwest  36397.57600\n",
      "1314   30  female  23.655         3    yes  northwest  18765.87545\n",
      "1321   62    male  26.695         0    yes  northeast  28101.33305\n",
      "1323   42  female  40.370         2    yes  southeast  43896.37630\n",
      "1337   61  female  29.070         0    yes  northwest  29141.36030\n",
      "\n",
      "[274 rows x 7 columns]\n",
      "---------------------------------------------------\n",
      "      age     sex     bmi  children smoker     region      charges\n",
      "1      18    male  33.770         1     no  southeast   1725.55230\n",
      "2      28    male  33.000         3     no  southeast   4449.46200\n",
      "3      33    male  22.705         0     no  northwest  21984.47061\n",
      "4      32    male  28.880         0     no  northwest   3866.85520\n",
      "5      31  female  25.740         0     no  southeast   3756.62160\n",
      "...   ...     ...     ...       ...    ...        ...          ...\n",
      "1332   52  female  44.700         3     no  southwest  11411.68500\n",
      "1333   50    male  30.970         3     no  northwest  10600.54830\n",
      "1334   18  female  31.920         0     no  northeast   2205.98080\n",
      "1335   18  female  36.850         0     no  southeast   1629.83350\n",
      "1336   21  female  25.800         0     no  southwest   2007.94500\n",
      "\n",
      "[1064 rows x 7 columns]\n"
     ]
    }
   ],
   "source": [
    "smoker = df[df['smoker']==\"yes\"]\n",
    "print (smoker)\n",
    "\n",
    "print('---------------------------------------------------')\n",
    "\n",
    "no_smoker = df[df['smoker']==\"no\"]\n",
    "print (no_smoker)"
   ]
  },
  {
   "cell_type": "code",
   "execution_count": 11,
   "metadata": {},
   "outputs": [
    {
     "data": {
      "image/png": "[encoded data removed]",
      "text/plain": [
       "<Figure size 432x288 with 1 Axes>"
      ]
     },
     "metadata": {},
     "output_type": "display_data"
    },
    {
     "name": "stdout",
     "output_type": "stream",
     "text": [
      "---------------------------------------------------\n",
      "Jadi proporsi yang paling tinggi adalah non perokok\n"
     ]
    }
   ],
   "source": [
    "# komparasi Plot Perokok dan Tidak perokok\n",
    "import matplotlib.pyplot as plt\n",
    "import seaborn as sns\n",
    "SmokerOrNo = [np.count_nonzero(df['smoker'] == 'yes'), np.count_nonzero(df['smoker'] == 'no')]\n",
    "label = ['Smoker', 'No Smoker']\n",
    "plt.title('Smoker and No Smoker')\n",
    "plt.pie (SmokerOrNo, labels = label, radius = 1.1, startangle=60, autopct='%.1f%%', shadow=True)\n",
    "plt.show()\n",
    "print('---------------------------------------------------')\n",
    "print('Jadi proporsi yang paling tinggi adalah non perokok')"
   ]
  },
  {
   "cell_type": "markdown",
   "metadata": {},
   "source": [
    "5. Berapa peluang seseorang tersebut adalah perempuan diketahui dia adalah perokok?"
   ]
  },
  {
   "cell_type": "code",
   "execution_count": 20,
   "metadata": {},
   "outputs": [
    {
     "name": "stdout",
     "output_type": "stream",
     "text": [
      "peluang seorang Perempuan perokok adalah :  0.17371601208459214\n",
      "---------------------------------------------------\n",
      "peluang seorang Perempuan non perokok adalah :  0.8262839879154078\n"
     ]
    }
   ],
   "source": [
    "sexfemale = df[(df['sex'] == \"female\")]\n",
    "\n",
    "Perokok_female_count = sexfemale['sex'].count()\n",
    "\n",
    "female_yes = sexfemale[sexfemale['smoker'] == \"yes\"]\n",
    "\n",
    "female_no = sexfemale[sexfemale['smoker'] == \"no\"]\n",
    "\n",
    "female_yes = female_yes['smoker'].count()/Perokok_female_count \n",
    "female_no = female_no['smoker'].count()/Perokok_female_count\n",
    "\n",
    "print('peluang seorang Perempuan perokok adalah : ', female_yes)\n",
    "\n",
    "print('---------------------------------------------------')\n",
    "\n",
    "print('peluang seorang Perempuan non perokok adalah : ', female_no)"
   ]
  },
  {
   "cell_type": "markdown",
   "metadata": {},
   "source": [
    "6. Berapa peluang seseorang tersebut adalah laki-laki diketahui dia adalah perokok?"
   ]
  },
  {
   "cell_type": "code",
   "execution_count": 22,
   "metadata": {},
   "outputs": [
    {
     "name": "stdout",
     "output_type": "stream",
     "text": [
      "peluang seorang Laki-laki perokok adalah :  0.23520710059171598\n",
      "---------------------------------------------------\n",
      "peluang seorang laki-laki non perokok adalah :  0.764792899408284\n"
     ]
    }
   ],
   "source": [
    "sexmale = df[(df['sex'] == \"male\")]\n",
    "\n",
    "Perokok_male_count = sexmale['sex'].count()\n",
    "\n",
    "male_yes = sexmale[sexmale['smoker'] == \"yes\"]\n",
    "\n",
    "male_no = sexmale[sexmale['smoker'] == \"no\"]\n",
    "\n",
    "laki_yes = male_yes['smoker'].count()/Perokok_male_count \n",
    "laki_no = male_no['smoker'].count()/Perokok_male_count\n",
    "\n",
    "print('peluang seorang Laki-laki perokok adalah : ', laki_yes)\n",
    "\n",
    "print('---------------------------------------------------')\n",
    "\n",
    "print('peluang seorang laki-laki non perokok adalah : ', laki_no)"
   ]
  },
  {
   "cell_type": "markdown",
   "metadata": {},
   "source": [
    "7. Bagaimana bentuk distribusi tagihan di tiap-tiap region\n"
   ]
  },
  {
   "cell_type": "code",
   "execution_count": 116,
   "metadata": {},
   "outputs": [
    {
     "name": "stdout",
     "output_type": "stream",
     "text": [
      "0       16884.92400\n",
      "12       1826.84300\n",
      "15       1837.23700\n",
      "18      10602.38500\n",
      "19      36837.46700\n",
      "           ...     \n",
      "1316     1731.67700\n",
      "1329    10325.20600\n",
      "1331    10795.93733\n",
      "1332    11411.68500\n",
      "1336     2007.94500\n",
      "Name: charges, Length: 325, dtype: float64\n",
      "------------------------------\n",
      "1        1725.5523\n",
      "2        4449.4620\n",
      "5        3756.6216\n",
      "6        8240.5896\n",
      "11      27808.7251\n",
      "           ...    \n",
      "1322    12981.3457\n",
      "1323    43896.3763\n",
      "1327     9377.9047\n",
      "1330    12629.1656\n",
      "1335     1629.8335\n",
      "Name: charges, Length: 364, dtype: float64\n",
      "------------------------------\n",
      "3       21984.47061\n",
      "4        3866.85520\n",
      "7        7281.50560\n",
      "9       28923.13692\n",
      "24       6203.90175\n",
      "           ...     \n",
      "1319     7201.70085\n",
      "1320     5425.02335\n",
      "1324     4239.89265\n",
      "1333    10600.54830\n",
      "1337    29141.36030\n",
      "Name: charges, Length: 325, dtype: float64\n",
      "------------------------------\n",
      "8        6406.41070\n",
      "10       2721.32080\n",
      "16      10797.33620\n",
      "17       2395.17155\n",
      "20      13228.84695\n",
      "           ...     \n",
      "1321    28101.33305\n",
      "1325    13143.33665\n",
      "1326     7050.02130\n",
      "1328    22395.74424\n",
      "1334     2205.98080\n",
      "Name: charges, Length: 324, dtype: float64\n",
      "------------------------------\n"
     ]
    },
    {
     "data": {
      "image/png": "[encoded data removed]",
      "text/plain": [
       "<Figure size 432x288 with 1 Axes>"
      ]
     },
     "metadata": {},
     "output_type": "display_data"
    }
   ],
   "source": [
    "southwest = df[df['region']== 'southwest']['charges']\n",
    "print(southwest)\n",
    "\n",
    "print(\"------------------------------\")\n",
    "\n",
    "southeast = df[df['region']==\"southeast\"][\"charges\"]\n",
    "print (southeast)\n",
    "\n",
    "print(\"------------------------------\")\n",
    "\n",
    "northwest = df[df['region']==\"northwest\"][\"charges\"]\n",
    "print (northwest)\n",
    "\n",
    "print(\"------------------------------\")\n",
    "\n",
    "northeast = df[df['region']==\"northeast\"][\"charges\"]\n",
    "print (northeast)\n",
    "\n",
    "print(\"------------------------------\")\n",
    "\n",
    "import matplotlib.pyplot as plt\n",
    "import seaborn as sns\n",
    "Region = [np.count_nonzero(southwest), np.count_nonzero(southeast), np.count_nonzero(northwest), np.count_nonzero(northeast)]\n",
    "label = ['southwest', 'southeast', 'northwest', 'northeast']\n",
    "plt.title('southwest, southeast, northwest, northeast')\n",
    "plt.pie (Region, labels = label, radius = 1.1, startangle=60, autopct='%.1f%%', shadow=True)\n",
    "plt.show()"
   ]
  }
 ],
 "metadata": {
  "kernelspec": {
   "display_name": "Python 3.8.8 ('base')",
   "language": "python",
   "name": "python3"
  },
  "language_info": {
   "codemirror_mode": {
    "name": "ipython",
    "version": 3
   },
   "file_extension": ".py",
   "mimetype": "text/x-python",
   "name": "python",
   "nbconvert_exporter": "python",
   "pygments_lexer": "ipython3",
   "version": "3.8.8"
  },
  "orig_nbformat": 4,
  "vscode": {
   "interpreter": {
    "hash": "491feae31c27a1c8c2eb2e8434d5e8fef7076dad40471704f5593a8492996387"
   }
  }
 },
 "nbformat": 4,
 "nbformat_minor": 2
}
