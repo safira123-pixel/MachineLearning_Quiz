{
 "cells": [
  {
   "cell_type": "code",
   "execution_count": 2,
   "metadata": {},
   "outputs": [
    {
     "data": {
      "text/html": [
       "<div>\n",
       "<style scoped>\n",
       "    .dataframe tbody tr th:only-of-type {\n",
       "        vertical-align: middle;\n",
       "    }\n",
       "\n",
       "    .dataframe tbody tr th {\n",
       "        vertical-align: top;\n",
       "    }\n",
       "\n",
       "    .dataframe thead th {\n",
       "        text-align: right;\n",
       "    }\n",
       "</style>\n",
       "<table border=\"1\" class=\"dataframe\">\n",
       "  <thead>\n",
       "    <tr style=\"text-align: right;\">\n",
       "      <th></th>\n",
       "      <th>age</th>\n",
       "      <th>sex</th>\n",
       "      <th>bmi</th>\n",
       "      <th>children</th>\n",
       "      <th>smoker</th>\n",
       "      <th>region</th>\n",
       "      <th>charges</th>\n",
       "    </tr>\n",
       "  </thead>\n",
       "  <tbody>\n",
       "    <tr>\n",
       "      <th>0</th>\n",
       "      <td>19</td>\n",
       "      <td>female</td>\n",
       "      <td>27.900</td>\n",
       "      <td>0</td>\n",
       "      <td>yes</td>\n",
       "      <td>southwest</td>\n",
       "      <td>16884.92400</td>\n",
       "    </tr>\n",
       "    <tr>\n",
       "      <th>1</th>\n",
       "      <td>18</td>\n",
       "      <td>male</td>\n",
       "      <td>33.770</td>\n",
       "      <td>1</td>\n",
       "      <td>no</td>\n",
       "      <td>southeast</td>\n",
       "      <td>1725.55230</td>\n",
       "    </tr>\n",
       "    <tr>\n",
       "      <th>2</th>\n",
       "      <td>28</td>\n",
       "      <td>male</td>\n",
       "      <td>33.000</td>\n",
       "      <td>3</td>\n",
       "      <td>no</td>\n",
       "      <td>southeast</td>\n",
       "      <td>4449.46200</td>\n",
       "    </tr>\n",
       "    <tr>\n",
       "      <th>3</th>\n",
       "      <td>33</td>\n",
       "      <td>male</td>\n",
       "      <td>22.705</td>\n",
       "      <td>0</td>\n",
       "      <td>no</td>\n",
       "      <td>northwest</td>\n",
       "      <td>21984.47061</td>\n",
       "    </tr>\n",
       "    <tr>\n",
       "      <th>4</th>\n",
       "      <td>32</td>\n",
       "      <td>male</td>\n",
       "      <td>28.880</td>\n",
       "      <td>0</td>\n",
       "      <td>no</td>\n",
       "      <td>northwest</td>\n",
       "      <td>3866.85520</td>\n",
       "    </tr>\n",
       "  </tbody>\n",
       "</table>\n",
       "</div>"
      ],
      "text/plain": [
       "   age     sex     bmi  children smoker     region      charges\n",
       "0   19  female  27.900         0    yes  southwest  16884.92400\n",
       "1   18    male  33.770         1     no  southeast   1725.55230\n",
       "2   28    male  33.000         3     no  southeast   4449.46200\n",
       "3   33    male  22.705         0     no  northwest  21984.47061\n",
       "4   32    male  28.880         0     no  northwest   3866.85520"
      ]
     },
     "execution_count": 2,
     "metadata": {},
     "output_type": "execute_result"
    }
   ],
   "source": [
    "import numpy as np\n",
    "import pandas as pd\n",
    "\n",
    "# Load data Excel ke Data Frame\n",
    "df = pd.read_csv('insurance 2.csv')\n",
    "\n",
    "# Cek data\n",
    "df.head()\n"
   ]
  },
  {
   "cell_type": "markdown",
   "metadata": {},
   "source": [
    "1. Rata - rata umur pengguna"
   ]
  },
  {
   "cell_type": "code",
   "execution_count": 27,
   "metadata": {},
   "outputs": [
    {
     "name": "stdout",
     "output_type": "stream",
     "text": [
      "rata - rata umur dari perokok :  38.51459854014598\n"
     ]
    }
   ],
   "source": [
    "mean = df[df['smoker']== 'yes']['age'].mean()\n",
    "b = round(mean,0)\n",
    "print('rata - rata umur dari perokok : ' ,mean)"
   ]
  },
  {
   "cell_type": "markdown",
   "metadata": {},
   "source": [
    "2. Rata-rata nilai BMI dari pengguna yang merokok"
   ]
  },
  {
   "cell_type": "code",
   "execution_count": 6,
   "metadata": {},
   "outputs": [
    {
     "name": "stdout",
     "output_type": "stream",
     "text": [
      "Rata rata umur pengguna adalah  30.708448905109503\n",
      "---------------------------------------------------\n",
      "Jadi, dapat dibulatkan bahwa rata-rata nilai BMI adalah  31.0\n"
     ]
    }
   ],
   "source": [
    "mean = df[df['smoker']== 'yes']['bmi'].mean()\n",
    "b = round(mean,0)\n",
    "print('Rata rata umur pengguna adalah ', mean)\n",
    "\n",
    "print('---------------------------------------------------')\n",
    "\n",
    "print('Jadi, dapat dibulatkan bahwa rata-rata nilai BMI adalah ',b)"
   ]
  },
  {
   "cell_type": "markdown",
   "metadata": {},
   "source": [
    "3. Berapa rata rata umur pada data tersebut?\n"
   ]
  },
  {
   "cell_type": "code",
   "execution_count": 28,
   "metadata": {},
   "outputs": [
    {
     "name": "stdout",
     "output_type": "stream",
     "text": [
      "rata - rata umur :  39.20702541106129\n"
     ]
    }
   ],
   "source": [
    "mean = df['age'].mean()\n",
    "print('rata - rata umur : ' ,mean)"
   ]
  },
  {
   "cell_type": "markdown",
   "metadata": {},
   "source": [
    "4. Berapa rata rata nilai BMI dari yang merokok?"
   ]
  },
  {
   "cell_type": "code",
   "execution_count": 7,
   "metadata": {},
   "outputs": [
    {
     "name": "stdout",
     "output_type": "stream",
     "text": [
      "Rata rata umur pengguna adalah  30.708448905109503\n",
      "---------------------------------------------------\n",
      "Jadi, dapat dibulatkan bahwa rata-rata nilai BMI adalah  31.0\n"
     ]
    }
   ],
   "source": [
    "mean = df[df['smoker']== 'yes']['bmi'].mean()\n",
    "b = round(mean,0)\n",
    "print('Rata rata umur pengguna adalah ', mean)\n",
    "\n",
    "print('---------------------------------------------------')\n",
    "\n",
    "print('Jadi, dapat dibulatkan bahwa rata-rata nilai BMI adalah ',b)"
   ]
  },
  {
   "cell_type": "markdown",
   "metadata": {},
   "source": [
    "5. Apakah variansi dari data charges perokok dan non perokok sama?"
   ]
  },
  {
   "cell_type": "code",
   "execution_count": 5,
   "metadata": {},
   "outputs": [
    {
     "name": "stdout",
     "output_type": "stream",
     "text": [
      "0       16884.92400\n",
      "11      27808.72510\n",
      "14      39611.75770\n",
      "19      36837.46700\n",
      "23      37701.87680\n",
      "           ...     \n",
      "1313    36397.57600\n",
      "1314    18765.87545\n",
      "1321    28101.33305\n",
      "1323    43896.37630\n",
      "1337    29141.36030\n",
      "Name: charges, Length: 274, dtype: float64\n",
      "1        1725.55230\n",
      "2        4449.46200\n",
      "3       21984.47061\n",
      "4        3866.85520\n",
      "5        3756.62160\n",
      "           ...     \n",
      "1332    11411.68500\n",
      "1333    10600.54830\n",
      "1334     2205.98080\n",
      "1335     1629.83350\n",
      "1336     2007.94500\n",
      "Name: charges, Length: 1064, dtype: float64\n"
     ]
    },
    {
     "data": {
      "image/png": "[encoded data removed]",
      "text/plain": [
       "<Figure size 432x288 with 1 Axes>"
      ]
     },
     "metadata": {},
     "output_type": "display_data"
    },
    {
     "name": "stdout",
     "output_type": "stream",
     "text": [
      "---------------------------------------------------\n",
      "Melihat dari pie chart bisa disimpulkan bahwa variasinya tidak sama\n"
     ]
    }
   ],
   "source": [
    "smoker = df[df['smoker']==\"yes\"][\"charges\"]\n",
    "print (smoker)\n",
    "\n",
    "no_smoker = df[df['smoker']==\"no\"][\"charges\"]\n",
    "print (no_smoker)\n",
    "\n",
    "# komparasi Plot Perokok dan Tidak perokok\n",
    "import matplotlib.pyplot as plt\n",
    "import seaborn as sns\n",
    "SmokerOrNo = [np.count_nonzero(smoker), np.count_nonzero(no_smoker)]\n",
    "label = ['No Smoker', 'Smoker']\n",
    "plt.title('No Smoker and Smoker')\n",
    "plt.pie (SmokerOrNo, labels = label, radius = 1.1, startangle=60, autopct='%.1f%%', shadow=True)\n",
    "plt.show()\n",
    "\n",
    "print('---------------------------------------------------')\n",
    "\n",
    "print('Melihat dari pie chart bisa disimpulkan bahwa variasinya tidak sama')"
   ]
  }
 ],
 "metadata": {
  "kernelspec": {
   "display_name": "Python 3.8.8 ('base')",
   "language": "python",
   "name": "python3"
  },
  "language_info": {
   "codemirror_mode": {
    "name": "ipython",
    "version": 3
   },
   "file_extension": ".py",
   "mimetype": "text/x-python",
   "name": "python",
   "nbconvert_exporter": "python",
   "pygments_lexer": "ipython3",
   "version": "3.8.8"
  },
  "orig_nbformat": 4,
  "vscode": {
   "interpreter": {
    "hash": "491feae31c27a1c8c2eb2e8434d5e8fef7076dad40471704f5593a8492996387"
   }
  }
 },
 "nbformat": 4,
 "nbformat_minor": 2
}
